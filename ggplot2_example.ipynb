{
 "cells": [
  {
   "cell_type": "markdown",
   "id": "39a3ce4d",
   "metadata": {},
   "source": [
    "# ggplot for expression level b/w difference conditions\n",
    "---\n",
    "tidy format  \n",
    "library - tidyverse  \n",
    "reshape packages\n"
   ]
  },
  {
   "cell_type": "code",
   "execution_count": 32,
   "id": "253ba747",
   "metadata": {},
   "outputs": [
    {
     "name": "stderr",
     "output_type": "stream",
     "text": [
      "Warning message in read.table(\"Expression_table_excel_format.txt\", header = T):\n",
      "\"incomplete final line found by readTableHeader on 'Expression_table_excel_format.txt'\"\n"
     ]
    },
    {
     "data": {
      "text/html": [
       "<table class=\"dataframe\">\n",
       "<caption>A data.frame: 4 × 7</caption>\n",
       "<thead>\n",
       "\t<tr><th></th><th scope=col>GeneName</th><th scope=col>Control1</th><th scope=col>Control2</th><th scope=col>TypeA1</th><th scope=col>TypeA2</th><th scope=col>TypeB1</th><th scope=col>TypeB2</th></tr>\n",
       "\t<tr><th></th><th scope=col>&lt;chr&gt;</th><th scope=col>&lt;int&gt;</th><th scope=col>&lt;int&gt;</th><th scope=col>&lt;int&gt;</th><th scope=col>&lt;int&gt;</th><th scope=col>&lt;int&gt;</th><th scope=col>&lt;int&gt;</th></tr>\n",
       "</thead>\n",
       "<tbody>\n",
       "\t<tr><th scope=row>1</th><td>GeneA</td><td>5</td><td>6</td><td>12</td><td>13</td><td>7</td><td>8</td></tr>\n",
       "\t<tr><th scope=row>2</th><td>GeneB</td><td>7</td><td>5</td><td>14</td><td>15</td><td>9</td><td>8</td></tr>\n",
       "\t<tr><th scope=row>3</th><td>GeneC</td><td>6</td><td>7</td><td>12</td><td>12</td><td>8</td><td>9</td></tr>\n",
       "\t<tr><th scope=row>4</th><td>GeneD</td><td>6</td><td>6</td><td>14</td><td>17</td><td>7</td><td>8</td></tr>\n",
       "</tbody>\n",
       "</table>\n"
      ],
      "text/latex": [
       "A data.frame: 4 × 7\n",
       "\\begin{tabular}{r|lllllll}\n",
       "  & GeneName & Control1 & Control2 & TypeA1 & TypeA2 & TypeB1 & TypeB2\\\\\n",
       "  & <chr> & <int> & <int> & <int> & <int> & <int> & <int>\\\\\n",
       "\\hline\n",
       "\t1 & GeneA & 5 & 6 & 12 & 13 & 7 & 8\\\\\n",
       "\t2 & GeneB & 7 & 5 & 14 & 15 & 9 & 8\\\\\n",
       "\t3 & GeneC & 6 & 7 & 12 & 12 & 8 & 9\\\\\n",
       "\t4 & GeneD & 6 & 6 & 14 & 17 & 7 & 8\\\\\n",
       "\\end{tabular}\n"
      ],
      "text/markdown": [
       "\n",
       "A data.frame: 4 × 7\n",
       "\n",
       "| <!--/--> | GeneName &lt;chr&gt; | Control1 &lt;int&gt; | Control2 &lt;int&gt; | TypeA1 &lt;int&gt; | TypeA2 &lt;int&gt; | TypeB1 &lt;int&gt; | TypeB2 &lt;int&gt; |\n",
       "|---|---|---|---|---|---|---|---|\n",
       "| 1 | GeneA | 5 | 6 | 12 | 13 | 7 | 8 |\n",
       "| 2 | GeneB | 7 | 5 | 14 | 15 | 9 | 8 |\n",
       "| 3 | GeneC | 6 | 7 | 12 | 12 | 8 | 9 |\n",
       "| 4 | GeneD | 6 | 6 | 14 | 17 | 7 | 8 |\n",
       "\n"
      ],
      "text/plain": [
       "  GeneName Control1 Control2 TypeA1 TypeA2 TypeB1 TypeB2\n",
       "1 GeneA    5        6        12     13     7      8     \n",
       "2 GeneB    7        5        14     15     9      8     \n",
       "3 GeneC    6        7        12     12     8      9     \n",
       "4 GeneD    6        6        14     17     7      8     "
      ]
     },
     "metadata": {},
     "output_type": "display_data"
    }
   ],
   "source": [
    "exp.table <- read.table(\"Expression_table_excel_format.txt\", header = T)\n",
    "head(exp.table)"
   ]
  },
  {
   "cell_type": "code",
   "execution_count": 22,
   "id": "06fdb652",
   "metadata": {},
   "outputs": [
    {
     "data": {
      "text/html": [
       "<table class=\"dataframe\">\n",
       "<caption>A matrix: 6 × 4 of type chr</caption>\n",
       "<tbody>\n",
       "\t<tr><th scope=row>GeneName</th><td>GeneA</td><td>GeneB</td><td>GeneC</td><td>GeneD</td></tr>\n",
       "\t<tr><th scope=row>Control1</th><td>5    </td><td>7    </td><td>6    </td><td>6    </td></tr>\n",
       "\t<tr><th scope=row>Control2</th><td>6    </td><td>5    </td><td>7    </td><td>6    </td></tr>\n",
       "\t<tr><th scope=row>TypeA1</th><td>12   </td><td>14   </td><td>12   </td><td>14   </td></tr>\n",
       "\t<tr><th scope=row>TypeA2</th><td>13   </td><td>15   </td><td>12   </td><td>17   </td></tr>\n",
       "\t<tr><th scope=row>TypeB1</th><td>7    </td><td>9    </td><td>8    </td><td>7    </td></tr>\n",
       "</tbody>\n",
       "</table>\n"
      ],
      "text/latex": [
       "A matrix: 6 × 4 of type chr\n",
       "\\begin{tabular}{r|llll}\n",
       "\tGeneName & GeneA & GeneB & GeneC & GeneD\\\\\n",
       "\tControl1 & 5     & 7     & 6     & 6    \\\\\n",
       "\tControl2 & 6     & 5     & 7     & 6    \\\\\n",
       "\tTypeA1 & 12    & 14    & 12    & 14   \\\\\n",
       "\tTypeA2 & 13    & 15    & 12    & 17   \\\\\n",
       "\tTypeB1 & 7     & 9     & 8     & 7    \\\\\n",
       "\\end{tabular}\n"
      ],
      "text/markdown": [
       "\n",
       "A matrix: 6 × 4 of type chr\n",
       "\n",
       "| GeneName | GeneA | GeneB | GeneC | GeneD |\n",
       "| Control1 | 5     | 7     | 6     | 6     |\n",
       "| Control2 | 6     | 5     | 7     | 6     |\n",
       "| TypeA1 | 12    | 14    | 12    | 14    |\n",
       "| TypeA2 | 13    | 15    | 12    | 17    |\n",
       "| TypeB1 | 7     | 9     | 8     | 7     |\n",
       "\n"
      ],
      "text/plain": [
       "         [,1]  [,2]  [,3]  [,4] \n",
       "GeneName GeneA GeneB GeneC GeneD\n",
       "Control1 5     7     6     6    \n",
       "Control2 6     5     7     6    \n",
       "TypeA1   12    14    12    14   \n",
       "TypeA2   13    15    12    17   \n",
       "TypeB1   7     9     8     7    "
      ]
     },
     "metadata": {},
     "output_type": "display_data"
    }
   ],
   "source": [
    "t.exp.table <- t(exp.table)\n",
    "head(t.exp.table)"
   ]
  },
  {
   "cell_type": "code",
   "execution_count": 7,
   "id": "da0f5ac3",
   "metadata": {},
   "outputs": [
    {
     "data": {
      "text/html": [
       "<table class=\"dataframe\">\n",
       "<caption>A data.frame: 24 × 4</caption>\n",
       "<thead>\n",
       "\t<tr><th scope=col>GeneName</th><th scope=col>Expression</th><th scope=col>Sample</th><th scope=col>Conditions</th></tr>\n",
       "\t<tr><th scope=col>&lt;chr&gt;</th><th scope=col>&lt;int&gt;</th><th scope=col>&lt;chr&gt;</th><th scope=col>&lt;chr&gt;</th></tr>\n",
       "</thead>\n",
       "<tbody>\n",
       "\t<tr><td>GeneA</td><td> 5</td><td>Control1</td><td>Control      </td></tr>\n",
       "\t<tr><td>GeneA</td><td> 6</td><td>Control2</td><td>Control      </td></tr>\n",
       "\t<tr><td>GeneB</td><td> 7</td><td>Control1</td><td>Control      </td></tr>\n",
       "\t<tr><td>GeneB</td><td> 5</td><td>Control2</td><td>Control      </td></tr>\n",
       "\t<tr><td>GeneC</td><td> 6</td><td>Control1</td><td>Control      </td></tr>\n",
       "\t<tr><td>GeneC</td><td> 7</td><td>Control2</td><td>Control      </td></tr>\n",
       "\t<tr><td>GeneD</td><td> 6</td><td>Control1</td><td>Control      </td></tr>\n",
       "\t<tr><td>GeneD</td><td> 6</td><td>Control2</td><td>Control      </td></tr>\n",
       "\t<tr><td>GeneA</td><td>12</td><td>TypeA1  </td><td>Disease_typeA</td></tr>\n",
       "\t<tr><td>GeneA</td><td>13</td><td>TypeA2  </td><td>Disease_typeA</td></tr>\n",
       "\t<tr><td>GeneB</td><td>14</td><td>TypeA1  </td><td>Disease_typeA</td></tr>\n",
       "\t<tr><td>GeneB</td><td>15</td><td>TypeA2  </td><td>Disease_typeA</td></tr>\n",
       "\t<tr><td>GeneC</td><td>12</td><td>TypeA1  </td><td>Disease_typeA</td></tr>\n",
       "\t<tr><td>GeneC</td><td>12</td><td>TypeA2  </td><td>Disease_typeA</td></tr>\n",
       "\t<tr><td>GeneD</td><td>14</td><td>TypeA1  </td><td>Disease_typeA</td></tr>\n",
       "\t<tr><td>GeneD</td><td>17</td><td>TypeA2  </td><td>Disease_typeA</td></tr>\n",
       "\t<tr><td>GeneA</td><td> 7</td><td>TypeB1  </td><td>Disease_typeB</td></tr>\n",
       "\t<tr><td>GeneA</td><td> 8</td><td>TypeB2  </td><td>Disease_typeB</td></tr>\n",
       "\t<tr><td>GeneB</td><td> 9</td><td>TypeB1  </td><td>Disease_typeB</td></tr>\n",
       "\t<tr><td>GeneB</td><td> 8</td><td>TypeB2  </td><td>Disease_typeB</td></tr>\n",
       "\t<tr><td>GeneC</td><td> 8</td><td>TypeB1  </td><td>Disease_typeB</td></tr>\n",
       "\t<tr><td>GeneC</td><td> 9</td><td>TypeB2  </td><td>Disease_typeB</td></tr>\n",
       "\t<tr><td>GeneD</td><td> 7</td><td>TypeB1  </td><td>Disease_typeB</td></tr>\n",
       "\t<tr><td>GeneD</td><td> 8</td><td>TypeB2  </td><td>Disease_typeB</td></tr>\n",
       "</tbody>\n",
       "</table>\n"
      ],
      "text/latex": [
       "A data.frame: 24 × 4\n",
       "\\begin{tabular}{llll}\n",
       " GeneName & Expression & Sample & Conditions\\\\\n",
       " <chr> & <int> & <chr> & <chr>\\\\\n",
       "\\hline\n",
       "\t GeneA &  5 & Control1 & Control      \\\\\n",
       "\t GeneA &  6 & Control2 & Control      \\\\\n",
       "\t GeneB &  7 & Control1 & Control      \\\\\n",
       "\t GeneB &  5 & Control2 & Control      \\\\\n",
       "\t GeneC &  6 & Control1 & Control      \\\\\n",
       "\t GeneC &  7 & Control2 & Control      \\\\\n",
       "\t GeneD &  6 & Control1 & Control      \\\\\n",
       "\t GeneD &  6 & Control2 & Control      \\\\\n",
       "\t GeneA & 12 & TypeA1   & Disease\\_typeA\\\\\n",
       "\t GeneA & 13 & TypeA2   & Disease\\_typeA\\\\\n",
       "\t GeneB & 14 & TypeA1   & Disease\\_typeA\\\\\n",
       "\t GeneB & 15 & TypeA2   & Disease\\_typeA\\\\\n",
       "\t GeneC & 12 & TypeA1   & Disease\\_typeA\\\\\n",
       "\t GeneC & 12 & TypeA2   & Disease\\_typeA\\\\\n",
       "\t GeneD & 14 & TypeA1   & Disease\\_typeA\\\\\n",
       "\t GeneD & 17 & TypeA2   & Disease\\_typeA\\\\\n",
       "\t GeneA &  7 & TypeB1   & Disease\\_typeB\\\\\n",
       "\t GeneA &  8 & TypeB2   & Disease\\_typeB\\\\\n",
       "\t GeneB &  9 & TypeB1   & Disease\\_typeB\\\\\n",
       "\t GeneB &  8 & TypeB2   & Disease\\_typeB\\\\\n",
       "\t GeneC &  8 & TypeB1   & Disease\\_typeB\\\\\n",
       "\t GeneC &  9 & TypeB2   & Disease\\_typeB\\\\\n",
       "\t GeneD &  7 & TypeB1   & Disease\\_typeB\\\\\n",
       "\t GeneD &  8 & TypeB2   & Disease\\_typeB\\\\\n",
       "\\end{tabular}\n"
      ],
      "text/markdown": [
       "\n",
       "A data.frame: 24 × 4\n",
       "\n",
       "| GeneName &lt;chr&gt; | Expression &lt;int&gt; | Sample &lt;chr&gt; | Conditions &lt;chr&gt; |\n",
       "|---|---|---|---|\n",
       "| GeneA |  5 | Control1 | Control       |\n",
       "| GeneA |  6 | Control2 | Control       |\n",
       "| GeneB |  7 | Control1 | Control       |\n",
       "| GeneB |  5 | Control2 | Control       |\n",
       "| GeneC |  6 | Control1 | Control       |\n",
       "| GeneC |  7 | Control2 | Control       |\n",
       "| GeneD |  6 | Control1 | Control       |\n",
       "| GeneD |  6 | Control2 | Control       |\n",
       "| GeneA | 12 | TypeA1   | Disease_typeA |\n",
       "| GeneA | 13 | TypeA2   | Disease_typeA |\n",
       "| GeneB | 14 | TypeA1   | Disease_typeA |\n",
       "| GeneB | 15 | TypeA2   | Disease_typeA |\n",
       "| GeneC | 12 | TypeA1   | Disease_typeA |\n",
       "| GeneC | 12 | TypeA2   | Disease_typeA |\n",
       "| GeneD | 14 | TypeA1   | Disease_typeA |\n",
       "| GeneD | 17 | TypeA2   | Disease_typeA |\n",
       "| GeneA |  7 | TypeB1   | Disease_typeB |\n",
       "| GeneA |  8 | TypeB2   | Disease_typeB |\n",
       "| GeneB |  9 | TypeB1   | Disease_typeB |\n",
       "| GeneB |  8 | TypeB2   | Disease_typeB |\n",
       "| GeneC |  8 | TypeB1   | Disease_typeB |\n",
       "| GeneC |  9 | TypeB2   | Disease_typeB |\n",
       "| GeneD |  7 | TypeB1   | Disease_typeB |\n",
       "| GeneD |  8 | TypeB2   | Disease_typeB |\n",
       "\n"
      ],
      "text/plain": [
       "   GeneName Expression Sample   Conditions   \n",
       "1  GeneA     5         Control1 Control      \n",
       "2  GeneA     6         Control2 Control      \n",
       "3  GeneB     7         Control1 Control      \n",
       "4  GeneB     5         Control2 Control      \n",
       "5  GeneC     6         Control1 Control      \n",
       "6  GeneC     7         Control2 Control      \n",
       "7  GeneD     6         Control1 Control      \n",
       "8  GeneD     6         Control2 Control      \n",
       "9  GeneA    12         TypeA1   Disease_typeA\n",
       "10 GeneA    13         TypeA2   Disease_typeA\n",
       "11 GeneB    14         TypeA1   Disease_typeA\n",
       "12 GeneB    15         TypeA2   Disease_typeA\n",
       "13 GeneC    12         TypeA1   Disease_typeA\n",
       "14 GeneC    12         TypeA2   Disease_typeA\n",
       "15 GeneD    14         TypeA1   Disease_typeA\n",
       "16 GeneD    17         TypeA2   Disease_typeA\n",
       "17 GeneA     7         TypeB1   Disease_typeB\n",
       "18 GeneA     8         TypeB2   Disease_typeB\n",
       "19 GeneB     9         TypeB1   Disease_typeB\n",
       "20 GeneB     8         TypeB2   Disease_typeB\n",
       "21 GeneC     8         TypeB1   Disease_typeB\n",
       "22 GeneC     9         TypeB2   Disease_typeB\n",
       "23 GeneD     7         TypeB1   Disease_typeB\n",
       "24 GeneD     8         TypeB2   Disease_typeB"
      ]
     },
     "metadata": {},
     "output_type": "display_data"
    }
   ],
   "source": [
    "exp.tidy.table <- read.table(\"./Expression_table_TidyFormat.txt\",header = T)\n",
    "exp.tidy.table"
   ]
  },
  {
   "cell_type": "code",
   "execution_count": 8,
   "id": "db504a57",
   "metadata": {},
   "outputs": [],
   "source": [
    "library(\"ggplot2\")"
   ]
  },
  {
   "cell_type": "code",
   "execution_count": 9,
   "id": "98090e53",
   "metadata": {},
   "outputs": [
    {
     "data": {
      "image/png": "[encoded data removed]",
      "text/plain": [
       "plot without title"
      ]
     },
     "metadata": {
      "image/png": {
       "height": 420,
       "width": 420
      }
     },
     "output_type": "display_data"
    }
   ],
   "source": [
    "ggplot(exp.tidy.table, aes(x = Conditions, y = Expression)) + geom_boxplot()"
   ]
  },
  {
   "cell_type": "code",
   "execution_count": 10,
   "id": "cc8bbcc7",
   "metadata": {},
   "outputs": [
    {
     "data": {
      "image/png": "[encoded data removed]",
      "text/plain": [
       "plot without title"
      ]
     },
     "metadata": {
      "image/png": {
       "height": 420,
       "width": 420
      }
     },
     "output_type": "display_data"
    }
   ],
   "source": [
    "ggplot(exp.tidy.table, aes(x = Conditions, y = Expression)) + \n",
    "geom_boxplot() + geom_jitter()"
   ]
  },
  {
   "cell_type": "code",
   "execution_count": 33,
   "id": "baca9167",
   "metadata": {},
   "outputs": [],
   "source": [
    "boxplot1 <- ggplot(exp.tidy.table, aes(x = Conditions, y = Expression,color = Conditions)) + \n",
    "geom_boxplot() + geom_jitter() "
   ]
  },
  {
   "cell_type": "code",
   "execution_count": 34,
   "id": "4db8836e",
   "metadata": {},
   "outputs": [],
   "source": [
    "boxplot2 <- ggplot(exp.tidy.table, aes(x = Conditions, y = Expression,fill = Conditions)) + \n",
    "geom_boxplot() + geom_jitter()"
   ]
  },
  {
   "cell_type": "code",
   "execution_count": 35,
   "id": "b4b4931b",
   "metadata": {},
   "outputs": [
    {
     "data": {
      "image/png": "[encoded data removed]",
      "text/plain": [
       "plot without title"
      ]
     },
     "metadata": {
      "image/png": {
       "height": 420,
       "width": 420
      }
     },
     "output_type": "display_data"
    }
   ],
   "source": [
    "boxplot1"
   ]
  },
  {
   "cell_type": "code",
   "execution_count": 36,
   "id": "9c28efe0",
   "metadata": {},
   "outputs": [
    {
     "data": {
      "image/png": "[encoded data removed]",
      "text/plain": [
       "plot without title"
      ]
     },
     "metadata": {
      "image/png": {
       "height": 420,
       "width": 420
      }
     },
     "output_type": "display_data"
    }
   ],
   "source": [
    "boxplot2"
   ]
  },
  {
   "cell_type": "code",
   "execution_count": 23,
   "id": "fddfad80",
   "metadata": {},
   "outputs": [
    {
     "data": {
      "text/html": [
       "<table class=\"dataframe\">\n",
       "<caption>A data.frame: 24 × 4</caption>\n",
       "<thead>\n",
       "\t<tr><th scope=col>GeneName</th><th scope=col>Expression</th><th scope=col>Sample</th><th scope=col>Conditions</th></tr>\n",
       "\t<tr><th scope=col>&lt;chr&gt;</th><th scope=col>&lt;int&gt;</th><th scope=col>&lt;chr&gt;</th><th scope=col>&lt;chr&gt;</th></tr>\n",
       "</thead>\n",
       "<tbody>\n",
       "\t<tr><td>GeneA</td><td> 5</td><td>Control1</td><td>Control      </td></tr>\n",
       "\t<tr><td>GeneA</td><td> 6</td><td>Control2</td><td>Control      </td></tr>\n",
       "\t<tr><td>GeneB</td><td> 7</td><td>Control1</td><td>Control      </td></tr>\n",
       "\t<tr><td>GeneB</td><td> 5</td><td>Control2</td><td>Control      </td></tr>\n",
       "\t<tr><td>GeneC</td><td> 6</td><td>Control1</td><td>Control      </td></tr>\n",
       "\t<tr><td>GeneC</td><td> 7</td><td>Control2</td><td>Control      </td></tr>\n",
       "\t<tr><td>GeneD</td><td> 6</td><td>Control1</td><td>Control      </td></tr>\n",
       "\t<tr><td>GeneD</td><td> 6</td><td>Control2</td><td>Control      </td></tr>\n",
       "\t<tr><td>GeneA</td><td>12</td><td>TypeA1  </td><td>Disease_typeA</td></tr>\n",
       "\t<tr><td>GeneA</td><td>13</td><td>TypeA2  </td><td>Disease_typeA</td></tr>\n",
       "\t<tr><td>GeneB</td><td>14</td><td>TypeA1  </td><td>Disease_typeA</td></tr>\n",
       "\t<tr><td>GeneB</td><td>15</td><td>TypeA2  </td><td>Disease_typeA</td></tr>\n",
       "\t<tr><td>GeneC</td><td>12</td><td>TypeA1  </td><td>Disease_typeA</td></tr>\n",
       "\t<tr><td>GeneC</td><td>12</td><td>TypeA2  </td><td>Disease_typeA</td></tr>\n",
       "\t<tr><td>GeneD</td><td>14</td><td>TypeA1  </td><td>Disease_typeA</td></tr>\n",
       "\t<tr><td>GeneD</td><td>17</td><td>TypeA2  </td><td>Disease_typeA</td></tr>\n",
       "\t<tr><td>GeneA</td><td> 7</td><td>TypeB1  </td><td>Disease_typeB</td></tr>\n",
       "\t<tr><td>GeneA</td><td> 8</td><td>TypeB2  </td><td>Disease_typeB</td></tr>\n",
       "\t<tr><td>GeneB</td><td> 9</td><td>TypeB1  </td><td>Disease_typeB</td></tr>\n",
       "\t<tr><td>GeneB</td><td> 8</td><td>TypeB2  </td><td>Disease_typeB</td></tr>\n",
       "\t<tr><td>GeneC</td><td> 8</td><td>TypeB1  </td><td>Disease_typeB</td></tr>\n",
       "\t<tr><td>GeneC</td><td> 9</td><td>TypeB2  </td><td>Disease_typeB</td></tr>\n",
       "\t<tr><td>GeneD</td><td> 7</td><td>TypeB1  </td><td>Disease_typeB</td></tr>\n",
       "\t<tr><td>GeneD</td><td> 8</td><td>TypeB2  </td><td>Disease_typeB</td></tr>\n",
       "</tbody>\n",
       "</table>\n"
      ],
      "text/latex": [
       "A data.frame: 24 × 4\n",
       "\\begin{tabular}{llll}\n",
       " GeneName & Expression & Sample & Conditions\\\\\n",
       " <chr> & <int> & <chr> & <chr>\\\\\n",
       "\\hline\n",
       "\t GeneA &  5 & Control1 & Control      \\\\\n",
       "\t GeneA &  6 & Control2 & Control      \\\\\n",
       "\t GeneB &  7 & Control1 & Control      \\\\\n",
       "\t GeneB &  5 & Control2 & Control      \\\\\n",
       "\t GeneC &  6 & Control1 & Control      \\\\\n",
       "\t GeneC &  7 & Control2 & Control      \\\\\n",
       "\t GeneD &  6 & Control1 & Control      \\\\\n",
       "\t GeneD &  6 & Control2 & Control      \\\\\n",
       "\t GeneA & 12 & TypeA1   & Disease\\_typeA\\\\\n",
       "\t GeneA & 13 & TypeA2   & Disease\\_typeA\\\\\n",
       "\t GeneB & 14 & TypeA1   & Disease\\_typeA\\\\\n",
       "\t GeneB & 15 & TypeA2   & Disease\\_typeA\\\\\n",
       "\t GeneC & 12 & TypeA1   & Disease\\_typeA\\\\\n",
       "\t GeneC & 12 & TypeA2   & Disease\\_typeA\\\\\n",
       "\t GeneD & 14 & TypeA1   & Disease\\_typeA\\\\\n",
       "\t GeneD & 17 & TypeA2   & Disease\\_typeA\\\\\n",
       "\t GeneA &  7 & TypeB1   & Disease\\_typeB\\\\\n",
       "\t GeneA &  8 & TypeB2   & Disease\\_typeB\\\\\n",
       "\t GeneB &  9 & TypeB1   & Disease\\_typeB\\\\\n",
       "\t GeneB &  8 & TypeB2   & Disease\\_typeB\\\\\n",
       "\t GeneC &  8 & TypeB1   & Disease\\_typeB\\\\\n",
       "\t GeneC &  9 & TypeB2   & Disease\\_typeB\\\\\n",
       "\t GeneD &  7 & TypeB1   & Disease\\_typeB\\\\\n",
       "\t GeneD &  8 & TypeB2   & Disease\\_typeB\\\\\n",
       "\\end{tabular}\n"
      ],
      "text/markdown": [
       "\n",
       "A data.frame: 24 × 4\n",
       "\n",
       "| GeneName &lt;chr&gt; | Expression &lt;int&gt; | Sample &lt;chr&gt; | Conditions &lt;chr&gt; |\n",
       "|---|---|---|---|\n",
       "| GeneA |  5 | Control1 | Control       |\n",
       "| GeneA |  6 | Control2 | Control       |\n",
       "| GeneB |  7 | Control1 | Control       |\n",
       "| GeneB |  5 | Control2 | Control       |\n",
       "| GeneC |  6 | Control1 | Control       |\n",
       "| GeneC |  7 | Control2 | Control       |\n",
       "| GeneD |  6 | Control1 | Control       |\n",
       "| GeneD |  6 | Control2 | Control       |\n",
       "| GeneA | 12 | TypeA1   | Disease_typeA |\n",
       "| GeneA | 13 | TypeA2   | Disease_typeA |\n",
       "| GeneB | 14 | TypeA1   | Disease_typeA |\n",
       "| GeneB | 15 | TypeA2   | Disease_typeA |\n",
       "| GeneC | 12 | TypeA1   | Disease_typeA |\n",
       "| GeneC | 12 | TypeA2   | Disease_typeA |\n",
       "| GeneD | 14 | TypeA1   | Disease_typeA |\n",
       "| GeneD | 17 | TypeA2   | Disease_typeA |\n",
       "| GeneA |  7 | TypeB1   | Disease_typeB |\n",
       "| GeneA |  8 | TypeB2   | Disease_typeB |\n",
       "| GeneB |  9 | TypeB1   | Disease_typeB |\n",
       "| GeneB |  8 | TypeB2   | Disease_typeB |\n",
       "| GeneC |  8 | TypeB1   | Disease_typeB |\n",
       "| GeneC |  9 | TypeB2   | Disease_typeB |\n",
       "| GeneD |  7 | TypeB1   | Disease_typeB |\n",
       "| GeneD |  8 | TypeB2   | Disease_typeB |\n",
       "\n"
      ],
      "text/plain": [
       "   GeneName Expression Sample   Conditions   \n",
       "1  GeneA     5         Control1 Control      \n",
       "2  GeneA     6         Control2 Control      \n",
       "3  GeneB     7         Control1 Control      \n",
       "4  GeneB     5         Control2 Control      \n",
       "5  GeneC     6         Control1 Control      \n",
       "6  GeneC     7         Control2 Control      \n",
       "7  GeneD     6         Control1 Control      \n",
       "8  GeneD     6         Control2 Control      \n",
       "9  GeneA    12         TypeA1   Disease_typeA\n",
       "10 GeneA    13         TypeA2   Disease_typeA\n",
       "11 GeneB    14         TypeA1   Disease_typeA\n",
       "12 GeneB    15         TypeA2   Disease_typeA\n",
       "13 GeneC    12         TypeA1   Disease_typeA\n",
       "14 GeneC    12         TypeA2   Disease_typeA\n",
       "15 GeneD    14         TypeA1   Disease_typeA\n",
       "16 GeneD    17         TypeA2   Disease_typeA\n",
       "17 GeneA     7         TypeB1   Disease_typeB\n",
       "18 GeneA     8         TypeB2   Disease_typeB\n",
       "19 GeneB     9         TypeB1   Disease_typeB\n",
       "20 GeneB     8         TypeB2   Disease_typeB\n",
       "21 GeneC     8         TypeB1   Disease_typeB\n",
       "22 GeneC     9         TypeB2   Disease_typeB\n",
       "23 GeneD     7         TypeB1   Disease_typeB\n",
       "24 GeneD     8         TypeB2   Disease_typeB"
      ]
     },
     "metadata": {},
     "output_type": "display_data"
    }
   ],
   "source": [
    "exp.tidy.table"
   ]
  },
  {
   "cell_type": "code",
   "execution_count": 24,
   "id": "785645f6",
   "metadata": {},
   "outputs": [],
   "source": [
    "exp.tidy.table_conANDtypeA <- subset(exp.tidy.table, exp.tidy.table$Conditions == \"Control\"| exp.tidy.table$Conditions ==\"Disease_typeA\" )"
   ]
  },
  {
   "cell_type": "code",
   "execution_count": 25,
   "id": "658969c3",
   "metadata": {},
   "outputs": [
    {
     "data": {
      "text/html": [
       "<table class=\"dataframe\">\n",
       "<caption>A data.frame: 16 × 4</caption>\n",
       "<thead>\n",
       "\t<tr><th></th><th scope=col>GeneName</th><th scope=col>Expression</th><th scope=col>Sample</th><th scope=col>Conditions</th></tr>\n",
       "\t<tr><th></th><th scope=col>&lt;chr&gt;</th><th scope=col>&lt;int&gt;</th><th scope=col>&lt;chr&gt;</th><th scope=col>&lt;chr&gt;</th></tr>\n",
       "</thead>\n",
       "<tbody>\n",
       "\t<tr><th scope=row>1</th><td>GeneA</td><td> 5</td><td>Control1</td><td>Control      </td></tr>\n",
       "\t<tr><th scope=row>2</th><td>GeneA</td><td> 6</td><td>Control2</td><td>Control      </td></tr>\n",
       "\t<tr><th scope=row>3</th><td>GeneB</td><td> 7</td><td>Control1</td><td>Control      </td></tr>\n",
       "\t<tr><th scope=row>4</th><td>GeneB</td><td> 5</td><td>Control2</td><td>Control      </td></tr>\n",
       "\t<tr><th scope=row>5</th><td>GeneC</td><td> 6</td><td>Control1</td><td>Control      </td></tr>\n",
       "\t<tr><th scope=row>6</th><td>GeneC</td><td> 7</td><td>Control2</td><td>Control      </td></tr>\n",
       "\t<tr><th scope=row>7</th><td>GeneD</td><td> 6</td><td>Control1</td><td>Control      </td></tr>\n",
       "\t<tr><th scope=row>8</th><td>GeneD</td><td> 6</td><td>Control2</td><td>Control      </td></tr>\n",
       "\t<tr><th scope=row>9</th><td>GeneA</td><td>12</td><td>TypeA1  </td><td>Disease_typeA</td></tr>\n",
       "\t<tr><th scope=row>10</th><td>GeneA</td><td>13</td><td>TypeA2  </td><td>Disease_typeA</td></tr>\n",
       "\t<tr><th scope=row>11</th><td>GeneB</td><td>14</td><td>TypeA1  </td><td>Disease_typeA</td></tr>\n",
       "\t<tr><th scope=row>12</th><td>GeneB</td><td>15</td><td>TypeA2  </td><td>Disease_typeA</td></tr>\n",
       "\t<tr><th scope=row>13</th><td>GeneC</td><td>12</td><td>TypeA1  </td><td>Disease_typeA</td></tr>\n",
       "\t<tr><th scope=row>14</th><td>GeneC</td><td>12</td><td>TypeA2  </td><td>Disease_typeA</td></tr>\n",
       "\t<tr><th scope=row>15</th><td>GeneD</td><td>14</td><td>TypeA1  </td><td>Disease_typeA</td></tr>\n",
       "\t<tr><th scope=row>16</th><td>GeneD</td><td>17</td><td>TypeA2  </td><td>Disease_typeA</td></tr>\n",
       "</tbody>\n",
       "</table>\n"
      ],
      "text/latex": [
       "A data.frame: 16 × 4\n",
       "\\begin{tabular}{r|llll}\n",
       "  & GeneName & Expression & Sample & Conditions\\\\\n",
       "  & <chr> & <int> & <chr> & <chr>\\\\\n",
       "\\hline\n",
       "\t1 & GeneA &  5 & Control1 & Control      \\\\\n",
       "\t2 & GeneA &  6 & Control2 & Control      \\\\\n",
       "\t3 & GeneB &  7 & Control1 & Control      \\\\\n",
       "\t4 & GeneB &  5 & Control2 & Control      \\\\\n",
       "\t5 & GeneC &  6 & Control1 & Control      \\\\\n",
       "\t6 & GeneC &  7 & Control2 & Control      \\\\\n",
       "\t7 & GeneD &  6 & Control1 & Control      \\\\\n",
       "\t8 & GeneD &  6 & Control2 & Control      \\\\\n",
       "\t9 & GeneA & 12 & TypeA1   & Disease\\_typeA\\\\\n",
       "\t10 & GeneA & 13 & TypeA2   & Disease\\_typeA\\\\\n",
       "\t11 & GeneB & 14 & TypeA1   & Disease\\_typeA\\\\\n",
       "\t12 & GeneB & 15 & TypeA2   & Disease\\_typeA\\\\\n",
       "\t13 & GeneC & 12 & TypeA1   & Disease\\_typeA\\\\\n",
       "\t14 & GeneC & 12 & TypeA2   & Disease\\_typeA\\\\\n",
       "\t15 & GeneD & 14 & TypeA1   & Disease\\_typeA\\\\\n",
       "\t16 & GeneD & 17 & TypeA2   & Disease\\_typeA\\\\\n",
       "\\end{tabular}\n"
      ],
      "text/markdown": [
       "\n",
       "A data.frame: 16 × 4\n",
       "\n",
       "| <!--/--> | GeneName &lt;chr&gt; | Expression &lt;int&gt; | Sample &lt;chr&gt; | Conditions &lt;chr&gt; |\n",
       "|---|---|---|---|---|\n",
       "| 1 | GeneA |  5 | Control1 | Control       |\n",
       "| 2 | GeneA |  6 | Control2 | Control       |\n",
       "| 3 | GeneB |  7 | Control1 | Control       |\n",
       "| 4 | GeneB |  5 | Control2 | Control       |\n",
       "| 5 | GeneC |  6 | Control1 | Control       |\n",
       "| 6 | GeneC |  7 | Control2 | Control       |\n",
       "| 7 | GeneD |  6 | Control1 | Control       |\n",
       "| 8 | GeneD |  6 | Control2 | Control       |\n",
       "| 9 | GeneA | 12 | TypeA1   | Disease_typeA |\n",
       "| 10 | GeneA | 13 | TypeA2   | Disease_typeA |\n",
       "| 11 | GeneB | 14 | TypeA1   | Disease_typeA |\n",
       "| 12 | GeneB | 15 | TypeA2   | Disease_typeA |\n",
       "| 13 | GeneC | 12 | TypeA1   | Disease_typeA |\n",
       "| 14 | GeneC | 12 | TypeA2   | Disease_typeA |\n",
       "| 15 | GeneD | 14 | TypeA1   | Disease_typeA |\n",
       "| 16 | GeneD | 17 | TypeA2   | Disease_typeA |\n",
       "\n"
      ],
      "text/plain": [
       "   GeneName Expression Sample   Conditions   \n",
       "1  GeneA     5         Control1 Control      \n",
       "2  GeneA     6         Control2 Control      \n",
       "3  GeneB     7         Control1 Control      \n",
       "4  GeneB     5         Control2 Control      \n",
       "5  GeneC     6         Control1 Control      \n",
       "6  GeneC     7         Control2 Control      \n",
       "7  GeneD     6         Control1 Control      \n",
       "8  GeneD     6         Control2 Control      \n",
       "9  GeneA    12         TypeA1   Disease_typeA\n",
       "10 GeneA    13         TypeA2   Disease_typeA\n",
       "11 GeneB    14         TypeA1   Disease_typeA\n",
       "12 GeneB    15         TypeA2   Disease_typeA\n",
       "13 GeneC    12         TypeA1   Disease_typeA\n",
       "14 GeneC    12         TypeA2   Disease_typeA\n",
       "15 GeneD    14         TypeA1   Disease_typeA\n",
       "16 GeneD    17         TypeA2   Disease_typeA"
      ]
     },
     "metadata": {},
     "output_type": "display_data"
    }
   ],
   "source": [
    "exp.tidy.table_conANDtypeA"
   ]
  },
  {
   "cell_type": "code",
   "execution_count": 26,
   "id": "9d7481ed",
   "metadata": {},
   "outputs": [],
   "source": [
    "library(\"patchwork\")"
   ]
  },
  {
   "cell_type": "code",
   "execution_count": 39,
   "id": "ebc18b09",
   "metadata": {},
   "outputs": [
    {
     "data": {
      "image/png": "[encoded data removed]",
      "text/plain": [
       "plot without title"
      ]
     },
     "metadata": {
      "image/png": {
       "height": 420,
       "width": 420
      }
     },
     "output_type": "display_data"
    }
   ],
   "source": [
    "(boxplot1 + boxplot2) / boxplot1"
   ]
  },
  {
   "cell_type": "code",
   "execution_count": null,
   "id": "477b6ddc",
   "metadata": {},
   "outputs": [],
   "source": []
  }
 ],
 "metadata": {
  "kernelspec": {
   "display_name": "R4.1",
   "language": "R",
   "name": "ir41"
  },
  "language_info": {
   "codemirror_mode": "r",
   "file_extension": ".r",
   "mimetype": "text/x-r-source",
   "name": "R",
   "pygments_lexer": "r",
   "version": "4.1.1"
  }
 },
 "nbformat": 4,
 "nbformat_minor": 5
}
